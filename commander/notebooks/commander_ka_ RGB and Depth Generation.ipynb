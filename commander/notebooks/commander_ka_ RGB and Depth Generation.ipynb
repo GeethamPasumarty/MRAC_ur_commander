{
 "cells": [
  {
   "cell_type": "markdown",
   "metadata": {},
   "source": [
    "# commander for RGB and Depth image generation\n"
   ]
  },
  {
   "cell_type": "code",
   "execution_count": null,
   "metadata": {},
   "outputs": [],
   "source": [
    "from typing import List\n",
    "from math import pi\n",
    "import rospy\n",
    "from copy import deepcopy\n",
    "\n",
    "from moveit_commander import PlanningSceneInterface\n",
    "\n",
    "from geometry_msgs.msg import (\n",
    "    Pose,\n",
    "    PoseStamped,\n",
    "    Point,\n",
    "    Quaternion,\n",
    ")\n",
    "from commander.msg import Goal\n",
    "from commander.srv import (\n",
    "    ExecuteTrajectory,\n",
    "    PlanGoal,\n",
    "    PlanGoalRequest,\n",
    "    PlanSequence,\n",
    "    PlanSequenceRequest,\n",
    "    PickPlace,\n",
    "    GetTcpPose,\n",
    "    VisualizePoses,\n",
    "    SetEe,\n",
    ")\n",
    "\n",
    "from commander.utils import poses_from_yaml, load_scene\n",
    "from commander.transform_utils import orient_poses, create_rotation_matrix, apply_transformation\n",
    "\n",
    "plan_goal_srv = rospy.ServiceProxy('commander/plan_goal', PlanGoal)\n",
    "plan_sequence_srv = rospy.ServiceProxy('commander/plan_sequence', PlanSequence)\n",
    "execute_trajectory_srv = rospy.ServiceProxy('commander/execute_trajectory', ExecuteTrajectory)\n",
    "get_tcp_pose_srv = rospy.ServiceProxy('commander/get_tcp_pose', GetTcpPose)\n",
    "set_ee_srv = rospy.ServiceProxy('commander/set_ee', SetEe)\n",
    "pick_place_srv = rospy.ServiceProxy('commander/pick_place', PickPlace)\n",
    "\n",
    "\n",
    "def display_poses(poses: List[Pose], frame_id: str = 'base_link') -> None:\n",
    "    rospy.wait_for_service('/visualize_poses', timeout=10)\n",
    "    visualize_poses = rospy.ServiceProxy('/visualize_poses', VisualizePoses)\n",
    "    visualize_poses(frame_id, poses)\n",
    "\n",
    "\n",
    "rospy.init_node('robot_program')\n",
    "scene = PlanningSceneInterface()\n",
    "load_scene()\n"
   ]
  },
  {
   "cell_type": "markdown",
   "metadata": {},
   "source": [
    "plan to goal"
   ]
  },
  {
   "cell_type": "code",
   "execution_count": null,
   "metadata": {},
   "outputs": [],
   "source": [
    "cam_home = [0.0, -1.5708, 1.5708, -3.1416, -1.5708, 0]\n"
   ]
  },
  {
   "cell_type": "code",
   "execution_count": null,
   "metadata": {},
   "outputs": [],
   "source": [
    "# the following args for planner are available:\n",
    "# - 'ompl' will use the ompl planning pipeline with RTTConnect planner\n",
    "# - 'ptp' will use the pilz planning pipeline with the PTP planner\n",
    "# - 'lin' will use the pilz planning pipeline with the LIN planner\n",
    "\n",
    "plan_goal_srv(Goal(joint_values=cam_home, vel_scale=0.2, acc_scale=0.2, planner='ptp'))"
   ]
  },
  {
   "cell_type": "code",
   "execution_count": null,
   "metadata": {},
   "outputs": [],
   "source": [
    "success = execute_trajectory_srv()\n"
   ]
  },
  {
   "cell_type": "code",
   "execution_count": null,
   "metadata": {},
   "outputs": [],
   "source": [
    "success = set_ee_srv('rgb_camera_tcp')\n"
   ]
  },
  {
   "cell_type": "code",
   "execution_count": null,
   "metadata": {},
   "outputs": [],
   "source": [
    "target0 = Pose(\n",
    "    position=Point(0.70, -0.0, 0.4),\n",
    "    orientation=Quaternion(0.7071067811865476, -0.7071067811865475, 0.0, 0.0),\n",
    ")\n",
    "target1 = Pose(\n",
    "    position=Point(0.70, -0.0, 0.6),\n",
    "    orientation=Quaternion(0.7071067811865476, -0.7071067811865475, 0.0, 0.0),\n",
    ")\n",
    "target2 = Pose(\n",
    "    position=Point(0.70, -0.0, 0.8),\n",
    "    orientation=Quaternion(0.7071067811865476, -0.7071067811865475, 0.0, 0.0),\n",
    ")\n",
    "target3 = Pose(\n",
    "    position=Point(0.70, -0.0, 1.0),\n",
    "    orientation=Quaternion(0.7071067811865476, -0.7071067811865475, 0.0, 0.0),\n",
    ")\n",
    "display_poses([target0,target1,target2,target3])"
   ]
  },
  {
   "cell_type": "code",
   "execution_count": null,
   "metadata": {},
   "outputs": [],
   "source": [
    "success = plan_goal_srv(\n",
    "    Goal(\n",
    "        pose=target0,\n",
    "        vel_scale=0.2,\n",
    "        acc_scale=0.2,\n",
    "        planner='ptp',\n",
    "    )\n",
    ").success"
   ]
  },
  {
   "cell_type": "code",
   "execution_count": null,
   "metadata": {},
   "outputs": [],
   "source": [
    "success = execute_trajectory_srv()"
   ]
  },
  {
   "cell_type": "markdown",
   "metadata": {},
   "source": [
    "Capture image"
   ]
  },
  {
   "cell_type": "code",
   "execution_count": 16,
   "metadata": {},
   "outputs": [
    {
     "ename": "ROSException",
     "evalue": "rospy.init_node() has already been called with different arguments: ('robot_program', ['/home/sai/.local/lib/python3.8/site-packages/ipykernel_launcher.py', '--f=/home/sai/.local/share/jupyter/runtime/kernel-v2-129461yxk9JhqRLEo2.json'], False, None, False, False)",
     "output_type": "error",
     "traceback": [
      "\u001b[0;31m---------------------------------------------------------------------------\u001b[0m",
      "\u001b[0;31mROSException\u001b[0m                              Traceback (most recent call last)",
      "Cell \u001b[0;32mIn[16], line 9\u001b[0m\n\u001b[1;32m      5\u001b[0m     rospy\u001b[38;5;241m.\u001b[39mint_node_(\u001b[38;5;124m\"\u001b[39m\u001b[38;5;124mKa,test\u001b[39m\u001b[38;5;124m\"\u001b[39m)\n\u001b[1;32m      7\u001b[0m ROBOT_CAP \u001b[38;5;241m=\u001b[39m \u001b[38;5;28;01mTrue\u001b[39;00m\n\u001b[0;32m----> 9\u001b[0m \u001b[43mrospy\u001b[49m\u001b[38;5;241;43m.\u001b[39;49m\u001b[43minit_node\u001b[49m\u001b[43m(\u001b[49m\u001b[38;5;124;43m\"\u001b[39;49m\u001b[38;5;124;43mka_test\u001b[39;49m\u001b[38;5;124;43m\"\u001b[39;49m\u001b[43m)\u001b[49m\n\u001b[1;32m     10\u001b[0m \u001b[38;5;28;01mif\u001b[39;00m ROBOT_CAP:\n\u001b[1;32m     11\u001b[0m     get_tcp_pose_srv \u001b[38;5;241m=\u001b[39m rospy\u001b[38;5;241m.\u001b[39mServiceProxy(\u001b[38;5;124m\"\u001b[39m\u001b[38;5;124m/commander/get_tcp_pose\u001b[39m\u001b[38;5;124m\"\u001b[39m, GetTcpPose)\n",
      "File \u001b[0;32m/opt/ros/noetic/lib/python3/dist-packages/rospy/client.py:274\u001b[0m, in \u001b[0;36minit_node\u001b[0;34m(name, argv, anonymous, log_level, disable_rostime, disable_rosout, disable_signals, xmlrpc_port, tcpros_port)\u001b[0m\n\u001b[1;32m    272\u001b[0m \u001b[38;5;28;01mif\u001b[39;00m _init_node_args:\n\u001b[1;32m    273\u001b[0m     \u001b[38;5;28;01mif\u001b[39;00m _init_node_args \u001b[38;5;241m!=\u001b[39m (name, argv, anonymous, log_level, disable_rostime, disable_signals):\n\u001b[0;32m--> 274\u001b[0m         \u001b[38;5;28;01mraise\u001b[39;00m rospy\u001b[38;5;241m.\u001b[39mexceptions\u001b[38;5;241m.\u001b[39mROSException(\u001b[38;5;124m\"\u001b[39m\u001b[38;5;124mrospy.init_node() has already been called with different arguments: \u001b[39m\u001b[38;5;124m\"\u001b[39m\u001b[38;5;241m+\u001b[39m\u001b[38;5;28mstr\u001b[39m(_init_node_args))\n\u001b[1;32m    275\u001b[0m     \u001b[38;5;28;01melse\u001b[39;00m:\n\u001b[1;32m    276\u001b[0m         \u001b[38;5;28;01mreturn\u001b[39;00m \u001b[38;5;66;03m#already initialized\u001b[39;00m\n",
      "\u001b[0;31mROSException\u001b[0m: rospy.init_node() has already been called with different arguments: ('robot_program', ['/home/sai/.local/lib/python3.8/site-packages/ipykernel_launcher.py', '--f=/home/sai/.local/share/jupyter/runtime/kernel-v2-129461yxk9JhqRLEo2.json'], False, None, False, False)"
     ]
    }
   ],
   "source": [
    "from capture_manager.srv import CaptureToFile\n",
    "from commander.srv import GetTcpPose, SetEe\n",
    "import rospy\n",
    "if not rospy.core.is_initialized():\n",
    "    rospy.int_node_(\"Ka,test\")\n",
    "\n",
    "ROBOT_CAP = True\n",
    "\n",
    "rospy.init_node(\"ka_test\")\n",
    "if ROBOT_CAP:\n",
    "    get_tcp_pose_srv = rospy.ServiceProxy(\"/commander/get_tcp_pose\", GetTcpPose)\n",
    "    set_ee_srv = rospy.ServiceProxy(\"/commander/set_ee\", SetEe)\n",
    "\n",
    "capture_to_file_srv = rospy.ServiceProxy(\"/capture_to_file\", CaptureToFile)"
   ]
  },
  {
   "cell_type": "code",
   "execution_count": 17,
   "metadata": {},
   "outputs": [
    {
     "ename": "NameError",
     "evalue": "name 'capture_to_file_srv' is not defined",
     "output_type": "error",
     "traceback": [
      "\u001b[0;31m---------------------------------------------------------------------------\u001b[0m",
      "\u001b[0;31mNameError\u001b[0m                                 Traceback (most recent call last)",
      "Cell \u001b[0;32mIn[17], line 4\u001b[0m\n\u001b[1;32m      2\u001b[0m     success \u001b[38;5;241m=\u001b[39m set_ee_srv(\u001b[38;5;124m\"\u001b[39m\u001b[38;5;124mrgb_camera_tcp\u001b[39m\u001b[38;5;124m\"\u001b[39m)\n\u001b[1;32m      3\u001b[0m     tcp_pose \u001b[38;5;241m=\u001b[39m get_tcp_pose_srv()\u001b[38;5;241m.\u001b[39mtcp_pose\n\u001b[0;32m----> 4\u001b[0m success \u001b[38;5;241m=\u001b[39m \u001b[43mcapture_to_file_srv\u001b[49m(path\u001b[38;5;241m=\u001b[39m\u001b[38;5;124m\"\u001b[39m\u001b[38;5;124m/home/MRAC_ur_commander/images\u001b[39m\u001b[38;5;124m\"\u001b[39m)\n",
      "\u001b[0;31mNameError\u001b[0m: name 'capture_to_file_srv' is not defined"
     ]
    }
   ],
   "source": [
    "if ROBOT_CAP:\n",
    "    success = set_ee_srv(\"rgb_camera_tcp\")\n",
    "    tcp_pose = get_tcp_pose_srv().tcp_pose\n",
    "success = capture_to_file_srv(path=\"/home/MRAC_ur_commander/images\")"
   ]
  },
  {
   "cell_type": "code",
   "execution_count": null,
   "metadata": {},
   "outputs": [],
   "source": [
    "ROBOT_CAP = True"
   ]
  },
  {
   "cell_type": "code",
   "execution_count": null,
   "metadata": {},
   "outputs": [],
   "source": [
    "success = plan_goal_srv(\n",
    "    Goal(\n",
    "        pose=target1,\n",
    "        vel_scale=0.2,\n",
    "        acc_scale=0.2,\n",
    "        planner='lin',\n",
    "    )\n",
    ").success\n"
   ]
  },
  {
   "cell_type": "code",
   "execution_count": null,
   "metadata": {},
   "outputs": [],
   "source": [
    "success = execute_trajectory_srv()\n"
   ]
  },
  {
   "cell_type": "code",
   "execution_count": null,
   "metadata": {},
   "outputs": [],
   "source": [
    "ROBOT_CAP = True"
   ]
  },
  {
   "cell_type": "code",
   "execution_count": null,
   "metadata": {},
   "outputs": [],
   "source": [
    "success = plan_goal_srv(\n",
    "    Goal(\n",
    "        pose=target2,\n",
    "        vel_scale=0.2,\n",
    "        acc_scale=0.2,\n",
    "        planner='lin',\n",
    "    )\n",
    ").success\n"
   ]
  },
  {
   "cell_type": "code",
   "execution_count": null,
   "metadata": {},
   "outputs": [],
   "source": [
    "success = execute_trajectory_srv()\n"
   ]
  },
  {
   "cell_type": "code",
   "execution_count": null,
   "metadata": {},
   "outputs": [],
   "source": [
    "ROBOT_CAP = True"
   ]
  },
  {
   "cell_type": "code",
   "execution_count": null,
   "metadata": {},
   "outputs": [],
   "source": [
    "success = plan_goal_srv(\n",
    "    Goal(\n",
    "        pose=target3,\n",
    "        vel_scale=0.2,\n",
    "        acc_scale=0.2,\n",
    "        planner='lin',\n",
    "    )\n",
    ").success\n"
   ]
  },
  {
   "cell_type": "code",
   "execution_count": null,
   "metadata": {},
   "outputs": [],
   "source": [
    "success = execute_trajectory_srv()\n"
   ]
  },
  {
   "cell_type": "markdown",
   "metadata": {},
   "source": [
    "just checking branch"
   ]
  }
 ],
 "metadata": {
  "kernelspec": {
   "display_name": "Python 3",
   "language": "python",
   "name": "python3"
  },
  "language_info": {
   "codemirror_mode": {
    "name": "ipython",
    "version": 3
   },
   "file_extension": ".py",
   "mimetype": "text/x-python",
   "name": "python",
   "nbconvert_exporter": "python",
   "pygments_lexer": "ipython3",
   "version": "3.8.10"
  },
  "orig_nbformat": 4
 },
 "nbformat": 4,
 "nbformat_minor": 2
}
