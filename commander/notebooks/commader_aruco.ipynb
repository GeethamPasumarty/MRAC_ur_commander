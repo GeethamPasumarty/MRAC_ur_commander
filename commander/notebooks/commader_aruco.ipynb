{
 "cells": [
  {
   "cell_type": "code",
   "execution_count": 1,
   "metadata": {},
   "outputs": [],
   "source": [
    "from typing import List\n",
    "from math import pi\n",
    "import rospy\n",
    "from copy import deepcopy\n",
    "from sensor_msgs.msg import Image\n",
    "\n",
    "from moveit_commander import PlanningSceneInterface\n",
    "\n",
    "from cv_bridge import CvBridge\n",
    "\n",
    "from geometry_msgs.msg import (\n",
    "    Pose,\n",
    "    PoseStamped,\n",
    "    Point,\n",
    "    Quaternion,\n",
    ")\n",
    "from commander.msg import Goal\n",
    "from commander.srv import (\n",
    "    ExecuteTrajectory,\n",
    "    PlanGoal,\n",
    "    PlanGoalRequest,\n",
    "    PlanSequence,\n",
    "    PlanSequenceRequest,\n",
    "    PickPlace,\n",
    "    GetTcpPose,\n",
    "    VisualizePoses,\n",
    "    SetEe,\n",
    ")\n",
    "\n",
    "from commander.utils import poses_from_yaml, load_scene\n",
    "from commander.transform_utils import orient_poses, create_rotation_matrix, apply_transformation\n",
    "\n",
    "\n",
    "import cv2\n",
    "import numpy as np\n",
    "\n",
    "plan_goal_srv = rospy.ServiceProxy('commander/plan_goal', PlanGoal)\n",
    "plan_sequence_srv = rospy.ServiceProxy('commander/plan_sequence', PlanSequence)\n",
    "execute_trajectory_srv = rospy.ServiceProxy('commander/execute_trajectory', ExecuteTrajectory)\n",
    "get_tcp_pose_srv = rospy.ServiceProxy('commander/get_tcp_pose', GetTcpPose)\n",
    "set_ee_srv = rospy.ServiceProxy('commander/set_ee', SetEe)\n",
    "pick_place_srv = rospy.ServiceProxy('commander/pick_place', PickPlace)\n",
    "\n",
    "\n",
    "def display_poses(poses: List[Pose], frame_id: str = 'base_link') -> None:\n",
    "    rospy.wait_for_service('/visualize_poses', timeout=10)\n",
    "    visualize_poses = rospy.ServiceProxy('/visualize_poses', VisualizePoses)\n",
    "    visualize_poses(frame_id, poses)\n",
    "\n",
    "\n",
    "rospy.init_node('robot_program')\n",
    "scene = PlanningSceneInterface()\n",
    "load_scene()\n"
   ]
  },
  {
   "cell_type": "code",
   "execution_count": 5,
   "metadata": {},
   "outputs": [],
   "source": [
    "cam_home = [-3.1416, -1.5708, -1.5708, -3.1416, -1.5708, -3.1416]\n"
   ]
  },
  {
   "cell_type": "code",
   "execution_count": 6,
   "metadata": {},
   "outputs": [
    {
     "data": {
      "text/plain": [
       "success: True\n",
       "configuration_change: False"
      ]
     },
     "execution_count": 6,
     "metadata": {},
     "output_type": "execute_result"
    }
   ],
   "source": [
    "plan_goal_srv(Goal(joint_values=cam_home, vel_scale=0.2, acc_scale=0.2, planner='ptp'))"
   ]
  },
  {
   "cell_type": "code",
   "execution_count": 17,
   "metadata": {},
   "outputs": [
    {
     "name": "stdout",
     "output_type": "stream",
     "text": [
      "None\n"
     ]
    }
   ],
   "source": [
    "img = cv2.imread(\"/dev_ws/src/images/qr4.png\")\n",
    "# aruco macker detection\n",
    "arucoDict = cv2.aruco.getPredefinedDictionary(cv2.aruco.DICT_4X4_50)\n",
    "\n",
    "arucoParams = cv2.aruco.DetectorParameters()\n",
    "\n",
    "detector = cv2.aruco.ArucoDetector(arucoDict, arucoParams)\n",
    "\n",
    "corners, ids, rejected = detector.detectMarkers(img)\n",
    "\n",
    "print(ids)\n",
    "\n",
    "# if the ID of marker is 0, then actuate the robot\n",
    "\n",
    "if ids is not None and ids[0] == 0:\n",
    "    success = set_ee_srv('rgb_camera_tcp')\n",
    "    target0 = Pose(\n",
    "        position=Point(0.5, -0.4, 0.4),\n",
    "        orientation=Quaternion(0.7071067811865476, -0.7071067811865475, 0.0, 0.0),\n",
    "    )\n",
    "    target1 = Pose(\n",
    "        position=Point(0.5, 0.4, 0.4),\n",
    "        orientation=Quaternion(0.7071067811865476, -0.7071067811865475, 0.0, 0.0),\n",
    "    )\n",
    "    display_poses([target0, target1])\n",
    "\n",
    "    success = plan_goal_srv(\n",
    "        Goal(\n",
    "            pose=target0,\n",
    "            vel_scale=0.2,\n",
    "            acc_scale=0.2,\n",
    "            planner='ptp',\n",
    "        )\n",
    "    ).success\n"
   ]
  },
  {
   "cell_type": "code",
   "execution_count": null,
   "metadata": {},
   "outputs": [],
   "source": []
  },
  {
   "cell_type": "code",
   "execution_count": null,
   "metadata": {},
   "outputs": [],
   "source": [
    "success = execute_trajectory_srv()"
   ]
  }
 ],
 "metadata": {
  "kernelspec": {
   "display_name": "Python 3",
   "language": "python",
   "name": "python3"
  },
  "language_info": {
   "codemirror_mode": {
    "name": "ipython",
    "version": 3
   },
   "file_extension": ".py",
   "mimetype": "text/x-python",
   "name": "python",
   "nbconvert_exporter": "python",
   "pygments_lexer": "ipython3",
   "version": "3.8.10"
  }
 },
 "nbformat": 4,
 "nbformat_minor": 2
}
